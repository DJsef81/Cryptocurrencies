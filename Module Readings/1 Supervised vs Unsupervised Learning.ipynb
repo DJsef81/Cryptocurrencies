{
 "cells": [
  {
   "cell_type": "raw",
   "id": "completed-talent",
   "metadata": {},
   "source": [
    "18.1.1 Supervised Learning Recap\n",
    "\n",
    "Supervised learning is fairly simple: We use it when we know what we're looking for or what our output should be. \n",
    "\n",
    "Two of the most popular techniques are classification and regression. \n",
    "\n",
    "For example, if we want to see how Bitcoin performs over time, or if we want to figure out what kinds of coins a user is most likely to buy, we use supervised learning. \n",
    "\n",
    "However, we use unsupervised learning when we don't yet know the question we're asking of the data. In other words, we just want to figure out if there is anything at all the data can tell us."
   ]
  },
  {
   "cell_type": "raw",
   "id": "careful-finland",
   "metadata": {},
   "source": [
    "In supervised learning, first a model is initiated, or a template for the algorithm is created. \n",
    "\n",
    "Then it will analyze the data and attempt to learn patterns, which is also called fitting and training. \n",
    "\n",
    "After the data has been fit and trained, it will then make predictions."
   ]
  },
  {
   "cell_type": "raw",
   "id": "precious-familiar",
   "metadata": {},
   "source": [
    "What are types of supervised learning?\n",
    "\n",
    "Classification\n",
    "Linear regression\n",
    "Logistic regression\n"
   ]
  },
  {
   "cell_type": "raw",
   "id": "dying-netscape",
   "metadata": {},
   "source": [
    "18.1.2 Unsupervised Learning\n",
    " \n",
    "In supervised learning, the input data already has a paired outcome, which is plugged in to train the model to predict outcomes in new datasets. For example, we want to build a model that, when given unfamiliar data, can accurately predict the outcomes."
   ]
  },
  {
   "cell_type": "raw",
   "id": "detected-beaver",
   "metadata": {},
   "source": [
    "In unsupervised learning, there are two key differences from the above approach:\n",
    "\n",
    "- There are no paired inputs and outcomes.\n",
    "\n",
    "- The model uses a whole dataset as input."
   ]
  },
  {
   "cell_type": "raw",
   "id": "mineral-interpretation",
   "metadata": {},
   "source": [
    "Unsupervised learning is used in one of the following two ways:\n",
    "\n",
    "- Transform the data to create an intuitive representation for analysis or to use in another machine learning model;\n",
    "\n",
    "or\n",
    "\n",
    "- Cluster or determine patterns in a grouping of data, rather than to predict a classification.\n"
   ]
  },
  {
   "cell_type": "raw",
   "id": "educational-prison",
   "metadata": {},
   "source": [
    "For example, imagine a store owner is planning to stock up on back-to-school supplies. The owner's challenges are selecting from a wide range of school supplies, devoting considerable space to the inventory, and maintaining a fast inventory turnover rate, from stocking to selling.\n",
    "\n",
    "The owner wants to predict the best time to start selling school supplies so staff can make room for the next big items to sell. \n",
    "\n",
    "The owner decides to focus on the previous year's data, which includes the number of items sold, when they were sold, and the area schools' start dates for 10, 20, and 30 days prior to the items' sell dates.\n",
    "\n",
    "Since the owner knows what they are looking for—the best time to start selling school supplies—what would be the best approach?\n",
    "\n",
    "Linear regression: The data from the previous year will have inputs (amount sold, date sold, schools’ start dates) that coincide during the time they stocked supplies. The owner will be able to see how sales in school supplies increased as the schools’ start dates approached."
   ]
  },
  {
   "cell_type": "raw",
   "id": "accomplished-chamber",
   "metadata": {},
   "source": [
    "Now, imagine the owner notices that when customers come in to buy school supplies, they also purchase non-school items, giving other categories a bump in sales. \n",
    "\n",
    "There are a wide variety of products to offer different consumers, so the owner wants to know which consumers might buy more products and what items they might want to buy. \n",
    "\n",
    "We don't really know how to group the data, but we know that grouping the data will be instructive. You'll need to factor in many data points, such as age, race, gender, location, and much more.\n",
    "\n",
    "Since the owner doesn't know exactly how many groups or what kinds of customers those groups contain, what would be the best method for finding out?\n",
    "\n",
    "Unsupervised learning. With unsupervised learning, the owner can plug the full dataset in and cluster groups of customers together."
   ]
  },
  {
   "cell_type": "raw",
   "id": "magnetic-cooperative",
   "metadata": {},
   "source": [
    "18.1.3 Types of Unsupervised Learning: Transformations and Clustering\n",
    "\n",
    "There are two types of unsupervised learning: transformations and clustering algorithms.\n"
   ]
  },
  {
   "cell_type": "raw",
   "id": "assigned-carter",
   "metadata": {},
   "source": [
    "Transformations\n",
    "\n",
    "We use transformations when we need to take raw data and make it easier to understand. Transformations also can help prepare data so that it can be used for other machine learning algorithms.\n",
    "\n",
    "For example, if you had cable TV viewer data, it might contain location, viewing duration, and viewer churn and retention during commercials and after programs ended. \n",
    "\n",
    "Transformations can reduce the dimensional representation, which simply means we'll be decreasing the number of features used for the model or analysis. After doing so, the data can either be processed for use in other algorithms or narrowed down so it can be viewed in 2D."
   ]
  },
  {
   "cell_type": "raw",
   "id": "direct-movie",
   "metadata": {},
   "source": [
    "Clustering Algorithms\n",
    "\n",
    "We use clustering algorithms to group similar objects into clusters. For example, if a cable service wants to group those with similar viewing habits, we would use a clustering algorithm.\n",
    "\n"
   ]
  },
  {
   "cell_type": "raw",
   "id": "burning-samoa",
   "metadata": {},
   "source": [
    "TRANSFORMATION\n",
    "This type takes the data and transforms it in a way that becomes more readable. It also helps prepare the data for different machine learning algorithms. \n",
    "\n",
    "This type can reduce the dimensional representation, decreasing features used for the model or analysis. After doing so, it can either process data for use in other algorithms or narrow down data so it can be viewed in 2D.\n",
    "\n",
    "CLUSTERING ALGORITHMS \n",
    "This type entails grouping similar objects into clusters."
   ]
  },
  {
   "cell_type": "raw",
   "id": "aerial-customer",
   "metadata": {},
   "source": [
    "Challenges of Unsupervised Learning\n",
    "\n",
    "Unsupervised learning isn't the solution for every data analytic challenge. Just because supervised learning might not work for one situation doesn't mean unsupervised learning will work instead. Understanding the data and what can be done with it is an important first step before choosing an algorithm.\n",
    "\n",
    "Recall that unsupervised learning does not take in any pairing of input and outcomes from the data—it only looks at the data as a whole. This can cause some challenges when running the algorithm. Since we won't know the outcome it's predicting, we might not know that the result is correct."
   ]
  },
  {
   "cell_type": "raw",
   "id": "different-singles",
   "metadata": {},
   "source": [
    "This can lead to issues where we're trying to decide if the model has provided any helpful information that we can use to make decisions in the real world. \n",
    "\n",
    "For example, our store owner might run a model that ends up grouping the type of people by how much they're buying. \n",
    "\n",
    "This could be useful in some contexts—for example, knowing who the top spenders are—but it might not help the store owner better organize the store for maximum purchases per person, or understand the differences in product preferences between top purchasers."
   ]
  },
  {
   "cell_type": "raw",
   "id": "victorian-tongue",
   "metadata": {},
   "source": [
    "The only way to determine what an unsupervised algorithm did with the data is to go through it manually or create visualizations. \n",
    "\n",
    "Since there will be a manual aspect, unsupervised learning is great for when you want to explore the data. Sometimes you'll use the information provided to you by the unsupervised algorithm to transition to a more targeted, supervised model."
   ]
  },
  {
   "cell_type": "raw",
   "id": "introductory-remains",
   "metadata": {},
   "source": [
    "As with supervised learning, data should be preprocessed into a correct format with only numerical values, null value determination, and so forth. \n",
    "\n",
    "The only difference is unsupervised learning doesn't have a target variable—it only has input features that will be used to find patterns in the data. \n",
    "\n",
    "It's important to carefully select features that could help to find those patterns or create groups."
   ]
  },
  {
   "cell_type": "raw",
   "id": "light-instruction",
   "metadata": {},
   "source": [
    "The next section will cover data preprocessing and data munging, and provide a refresher on Pandas and data cleaning. First, you'll need to install the necessary libraries for practice."
   ]
  },
  {
   "cell_type": "raw",
   "id": "tamil-flesh",
   "metadata": {},
   "source": []
  }
 ],
 "metadata": {
  "kernelspec": {
   "display_name": "PythonData",
   "language": "python",
   "name": "pythondata"
  },
  "language_info": {
   "codemirror_mode": {
    "name": "ipython",
    "version": 3
   },
   "file_extension": ".py",
   "mimetype": "text/x-python",
   "name": "python",
   "nbconvert_exporter": "python",
   "pygments_lexer": "ipython3",
   "version": "3.7.7"
  }
 },
 "nbformat": 4,
 "nbformat_minor": 5
}
